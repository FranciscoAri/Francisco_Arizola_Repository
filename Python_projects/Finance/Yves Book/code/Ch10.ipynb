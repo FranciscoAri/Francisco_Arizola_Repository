{
 "cells": [
  {
   "cell_type": "markdown",
   "id": "6ce6908d",
   "metadata": {},
   "source": [
    "This python notebook is based on the book \"Python for Finance: Mastering Data-Driven Finance\" by Yves Hilpisch."
   ]
  },
  {
   "cell_type": "markdown",
   "id": "74c1bcb9",
   "metadata": {},
   "source": [
    "Elaborated by: Francisco Arizola"
   ]
  },
  {
   "cell_type": "markdown",
   "id": "8f3124d7",
   "metadata": {},
   "source": [
    "# Part III: Financial Data Science"
   ]
  },
  {
   "cell_type": "markdown",
   "id": "8021dacf",
   "metadata": {},
   "source": [
    "## Chapter 10: Performance Python"
   ]
  },
  {
   "cell_type": "markdown",
   "id": "4a5c235c",
   "metadata": {},
   "source": [
    "This chapter is about approaches to speed up typical tasks and algorithms often encountered in a financial context."
   ]
  },
  {
   "cell_type": "code",
   "execution_count": 1,
   "id": "26b813e3",
   "metadata": {},
   "outputs": [
    {
     "name": "stdout",
     "output_type": "stream",
     "text": [
      "Requirement already satisfied: cufflinks in c:\\users\\franc\\anaconda3\\lib\\site-packages (0.17.3)\n",
      "Requirement already satisfied: plotly in c:\\users\\franc\\anaconda3\\lib\\site-packages (5.9.0)\n",
      "Requirement already satisfied: numpy>=1.9.2 in c:\\users\\franc\\anaconda3\\lib\\site-packages (from cufflinks) (1.24.3)\n",
      "Requirement already satisfied: pandas>=0.19.2 in c:\\users\\franc\\anaconda3\\lib\\site-packages (from cufflinks) (2.0.3)\n",
      "Requirement already satisfied: six>=1.9.0 in c:\\users\\franc\\anaconda3\\lib\\site-packages (from cufflinks) (1.16.0)\n",
      "Requirement already satisfied: colorlover>=0.2.1 in c:\\users\\franc\\anaconda3\\lib\\site-packages (from cufflinks) (0.3.0)\n",
      "Requirement already satisfied: setuptools>=34.4.1 in c:\\users\\franc\\anaconda3\\lib\\site-packages (from cufflinks) (68.0.0)\n",
      "Requirement already satisfied: ipython>=5.3.0 in c:\\users\\franc\\anaconda3\\lib\\site-packages (from cufflinks) (8.15.0)\n",
      "Requirement already satisfied: ipywidgets>=7.0.0 in c:\\users\\franc\\anaconda3\\lib\\site-packages (from cufflinks) (8.0.4)\n",
      "Requirement already satisfied: tenacity>=6.2.0 in c:\\users\\franc\\anaconda3\\lib\\site-packages (from plotly) (8.2.2)\n",
      "Requirement already satisfied: backcall in c:\\users\\franc\\anaconda3\\lib\\site-packages (from ipython>=5.3.0->cufflinks) (0.2.0)\n",
      "Requirement already satisfied: decorator in c:\\users\\franc\\anaconda3\\lib\\site-packages (from ipython>=5.3.0->cufflinks) (5.1.1)\n",
      "Requirement already satisfied: jedi>=0.16 in c:\\users\\franc\\anaconda3\\lib\\site-packages (from ipython>=5.3.0->cufflinks) (0.18.1)\n",
      "Requirement already satisfied: matplotlib-inline in c:\\users\\franc\\anaconda3\\lib\\site-packages (from ipython>=5.3.0->cufflinks) (0.1.6)\n",
      "Requirement already satisfied: pickleshare in c:\\users\\franc\\anaconda3\\lib\\site-packages (from ipython>=5.3.0->cufflinks) (0.7.5)\n",
      "Requirement already satisfied: prompt-toolkit!=3.0.37,<3.1.0,>=3.0.30 in c:\\users\\franc\\anaconda3\\lib\\site-packages (from ipython>=5.3.0->cufflinks) (3.0.36)\n",
      "Requirement already satisfied: pygments>=2.4.0 in c:\\users\\franc\\anaconda3\\lib\\site-packages (from ipython>=5.3.0->cufflinks) (2.15.1)\n",
      "Requirement already satisfied: stack-data in c:\\users\\franc\\anaconda3\\lib\\site-packages (from ipython>=5.3.0->cufflinks) (0.2.0)\n",
      "Requirement already satisfied: traitlets>=5 in c:\\users\\franc\\anaconda3\\lib\\site-packages (from ipython>=5.3.0->cufflinks) (5.7.1)\n",
      "Requirement already satisfied: colorama in c:\\users\\franc\\anaconda3\\lib\\site-packages (from ipython>=5.3.0->cufflinks) (0.4.6)\n",
      "Requirement already satisfied: ipykernel>=4.5.1 in c:\\users\\franc\\anaconda3\\lib\\site-packages (from ipywidgets>=7.0.0->cufflinks) (6.25.0)\n",
      "Requirement already satisfied: widgetsnbextension~=4.0 in c:\\users\\franc\\anaconda3\\lib\\site-packages (from ipywidgets>=7.0.0->cufflinks) (4.0.5)\n",
      "Requirement already satisfied: jupyterlab-widgets~=3.0 in c:\\users\\franc\\anaconda3\\lib\\site-packages (from ipywidgets>=7.0.0->cufflinks) (3.0.5)\n",
      "Requirement already satisfied: python-dateutil>=2.8.2 in c:\\users\\franc\\anaconda3\\lib\\site-packages (from pandas>=0.19.2->cufflinks) (2.8.2)\n",
      "Requirement already satisfied: pytz>=2020.1 in c:\\users\\franc\\anaconda3\\lib\\site-packages (from pandas>=0.19.2->cufflinks) (2023.3.post1)\n",
      "Requirement already satisfied: tzdata>=2022.1 in c:\\users\\franc\\anaconda3\\lib\\site-packages (from pandas>=0.19.2->cufflinks) (2023.3)\n",
      "Requirement already satisfied: comm>=0.1.1 in c:\\users\\franc\\anaconda3\\lib\\site-packages (from ipykernel>=4.5.1->ipywidgets>=7.0.0->cufflinks) (0.1.2)\n",
      "Requirement already satisfied: debugpy>=1.6.5 in c:\\users\\franc\\anaconda3\\lib\\site-packages (from ipykernel>=4.5.1->ipywidgets>=7.0.0->cufflinks) (1.6.7)\n",
      "Requirement already satisfied: jupyter-client>=6.1.12 in c:\\users\\franc\\anaconda3\\lib\\site-packages (from ipykernel>=4.5.1->ipywidgets>=7.0.0->cufflinks) (7.4.9)\n",
      "Requirement already satisfied: jupyter-core!=5.0.*,>=4.12 in c:\\users\\franc\\anaconda3\\lib\\site-packages (from ipykernel>=4.5.1->ipywidgets>=7.0.0->cufflinks) (5.3.0)\n",
      "Requirement already satisfied: nest-asyncio in c:\\users\\franc\\anaconda3\\lib\\site-packages (from ipykernel>=4.5.1->ipywidgets>=7.0.0->cufflinks) (1.5.6)\n",
      "Requirement already satisfied: packaging in c:\\users\\franc\\anaconda3\\lib\\site-packages (from ipykernel>=4.5.1->ipywidgets>=7.0.0->cufflinks) (23.1)\n",
      "Requirement already satisfied: psutil in c:\\users\\franc\\anaconda3\\lib\\site-packages (from ipykernel>=4.5.1->ipywidgets>=7.0.0->cufflinks) (5.9.0)\n",
      "Requirement already satisfied: pyzmq>=20 in c:\\users\\franc\\anaconda3\\lib\\site-packages (from ipykernel>=4.5.1->ipywidgets>=7.0.0->cufflinks) (23.2.0)\n",
      "Requirement already satisfied: tornado>=6.1 in c:\\users\\franc\\anaconda3\\lib\\site-packages (from ipykernel>=4.5.1->ipywidgets>=7.0.0->cufflinks) (6.3.2)\n",
      "Requirement already satisfied: parso<0.9.0,>=0.8.0 in c:\\users\\franc\\anaconda3\\lib\\site-packages (from jedi>=0.16->ipython>=5.3.0->cufflinks) (0.8.3)\n",
      "Requirement already satisfied: wcwidth in c:\\users\\franc\\anaconda3\\lib\\site-packages (from prompt-toolkit!=3.0.37,<3.1.0,>=3.0.30->ipython>=5.3.0->cufflinks) (0.2.5)\n",
      "Requirement already satisfied: executing in c:\\users\\franc\\anaconda3\\lib\\site-packages (from stack-data->ipython>=5.3.0->cufflinks) (0.8.3)\n",
      "Requirement already satisfied: asttokens in c:\\users\\franc\\anaconda3\\lib\\site-packages (from stack-data->ipython>=5.3.0->cufflinks) (2.0.5)\n",
      "Requirement already satisfied: pure-eval in c:\\users\\franc\\anaconda3\\lib\\site-packages (from stack-data->ipython>=5.3.0->cufflinks) (0.2.2)\n",
      "Requirement already satisfied: entrypoints in c:\\users\\franc\\anaconda3\\lib\\site-packages (from jupyter-client>=6.1.12->ipykernel>=4.5.1->ipywidgets>=7.0.0->cufflinks) (0.4)\n",
      "Requirement already satisfied: platformdirs>=2.5 in c:\\users\\franc\\anaconda3\\lib\\site-packages (from jupyter-core!=5.0.*,>=4.12->ipykernel>=4.5.1->ipywidgets>=7.0.0->cufflinks) (3.10.0)\n",
      "Requirement already satisfied: pywin32>=300 in c:\\users\\franc\\anaconda3\\lib\\site-packages (from jupyter-core!=5.0.*,>=4.12->ipykernel>=4.5.1->ipywidgets>=7.0.0->cufflinks) (305.1)\n"
     ]
    },
    {
     "data": {
      "text/html": [
       "        <script type=\"text/javascript\">\n",
       "        window.PlotlyConfig = {MathJaxConfig: 'local'};\n",
       "        if (window.MathJax && window.MathJax.Hub && window.MathJax.Hub.Config) {window.MathJax.Hub.Config({SVG: {font: \"STIX-Web\"}});}\n",
       "        if (typeof require !== 'undefined') {\n",
       "        require.undef(\"plotly\");\n",
       "        requirejs.config({\n",
       "            paths: {\n",
       "                'plotly': ['https://cdn.plot.ly/plotly-2.12.1.min']\n",
       "            }\n",
       "        });\n",
       "        require(['plotly'], function(Plotly) {\n",
       "            window._Plotly = Plotly;\n",
       "        });\n",
       "        }\n",
       "        </script>\n",
       "        "
      ]
     },
     "metadata": {},
     "output_type": "display_data"
    },
    {
     "data": {
      "text/html": [
       "        <script type=\"text/javascript\">\n",
       "        window.PlotlyConfig = {MathJaxConfig: 'local'};\n",
       "        if (window.MathJax && window.MathJax.Hub && window.MathJax.Hub.Config) {window.MathJax.Hub.Config({SVG: {font: \"STIX-Web\"}});}\n",
       "        if (typeof require !== 'undefined') {\n",
       "        require.undef(\"plotly\");\n",
       "        requirejs.config({\n",
       "            paths: {\n",
       "                'plotly': ['https://cdn.plot.ly/plotly-2.12.1.min']\n",
       "            }\n",
       "        });\n",
       "        require(['plotly'], function(Plotly) {\n",
       "            window._Plotly = Plotly;\n",
       "        });\n",
       "        }\n",
       "        </script>\n",
       "        "
      ]
     },
     "metadata": {},
     "output_type": "display_data"
    }
   ],
   "source": [
    "# Import necessary libraries \n",
    "import matplotlib.pyplot as plt\n",
    "import seaborn as sns\n",
    "import numpy as np\n",
    "import pandas as pd\n",
    "import random\n",
    "import math\n",
    "\n",
    "# Style pyplot with serif font\n",
    "plt.rcParams['font.family'] = 'serif'\n",
    "\n",
    "# 3D plotting library\n",
    "from mpl_toolkits.mplot3d import Axes3D\n",
    "\n",
    "# Comment the next line if you do not have cufflinks and plotly installed\n",
    "!pip install cufflinks plotly\n",
    "\n",
    "import pandas as pd\n",
    "import cufflinks as cf \n",
    "import plotly.offline as plyo\n",
    "\n",
    "# Initialize plotly to work in offline mode\n",
    "plyo.init_notebook_mode(connected=True)\n",
    "\n",
    "# Optional: if you are using Jupyter Notebook, you might want to enable inline plotting\n",
    "cf.go_offline()"
   ]
  },
  {
   "cell_type": "markdown",
   "id": "e450d345",
   "metadata": {},
   "source": [
    "### Loops"
   ]
  },
  {
   "cell_type": "markdown",
   "id": "008fac68",
   "metadata": {},
   "source": [
    "#### Pure Python"
   ]
  },
  {
   "cell_type": "code",
   "execution_count": 2,
   "id": "f8d64cfb",
   "metadata": {},
   "outputs": [],
   "source": [
    "# Define function to calculate the mean of a random series\n",
    "def average_py(n):\n",
    " s = 0\n",
    " for i in range(n):\n",
    "     s += random.random()\n",
    " return s / n"
   ]
  },
  {
   "cell_type": "code",
   "execution_count": 3,
   "id": "0bb1721c",
   "metadata": {},
   "outputs": [
    {
     "name": "stdout",
     "output_type": "stream",
     "text": [
      "CPU times: total: 625 ms\n",
      "Wall time: 765 ms\n"
     ]
    },
    {
     "data": {
      "text/plain": [
       "0.49998831094144003"
      ]
     },
     "execution_count": 3,
     "metadata": {},
     "output_type": "execute_result"
    }
   ],
   "source": [
    "n = 10000000\n",
    "\n",
    "%time average_py(n) # Times the function once"
   ]
  },
  {
   "cell_type": "code",
   "execution_count": 4,
   "id": "d5c67489",
   "metadata": {},
   "outputs": [
    {
     "name": "stdout",
     "output_type": "stream",
     "text": [
      "717 ms ± 49.1 ms per loop (mean ± std. dev. of 7 runs, 1 loop each)\n"
     ]
    }
   ],
   "source": [
    "%timeit average_py(n) # Times the function multiple times for a more reliable estimate"
   ]
  },
  {
   "cell_type": "code",
   "execution_count": 5,
   "id": "5bf0b3a7",
   "metadata": {},
   "outputs": [
    {
     "name": "stdout",
     "output_type": "stream",
     "text": [
      "CPU times: total: 891 ms\n",
      "Wall time: 1.23 s\n"
     ]
    },
    {
     "data": {
      "text/plain": [
       "0.4998267403822669"
      ]
     },
     "execution_count": 5,
     "metadata": {},
     "output_type": "execute_result"
    }
   ],
   "source": [
    "%time sum([random.random() for _ in range(n)]) / n "
   ]
  },
  {
   "cell_type": "markdown",
   "id": "cdacb59c",
   "metadata": {},
   "source": [
    "#### Numpy\n",
    "Now, we can try using Numpy. We'll see that the speedup is considerable, reaching almost a factor of 10 or an order of magnitude. However, the price that must be paid is significantly higher memory usage."
   ]
  },
  {
   "cell_type": "code",
   "execution_count": 6,
   "id": "97d89e9c",
   "metadata": {},
   "outputs": [
    {
     "name": "stdout",
     "output_type": "stream",
     "text": [
      "CPU times: total: 93.8 ms\n",
      "Wall time: 99.8 ms\n"
     ]
    },
    {
     "data": {
      "text/plain": [
       "0.4999920937704543"
      ]
     },
     "execution_count": 6,
     "metadata": {},
     "output_type": "execute_result"
    }
   ],
   "source": [
    "# Function to draw the random numbers “all at once” (no Python loop)\n",
    "def average_np(n):\n",
    " s = np.random.random(n)\n",
    " return s.mean()\n",
    "\n",
    "%time average_np(n)"
   ]
  },
  {
   "cell_type": "code",
   "execution_count": 7,
   "id": "e8464340",
   "metadata": {},
   "outputs": [
    {
     "name": "stdout",
     "output_type": "stream",
     "text": [
      "106 ms ± 3.99 ms per loop (mean ± std. dev. of 7 runs, 10 loops each)\n"
     ]
    }
   ],
   "source": [
    "%timeit average_np(n)"
   ]
  },
  {
   "cell_type": "code",
   "execution_count": 8,
   "id": "3398d6c7",
   "metadata": {},
   "outputs": [
    {
     "data": {
      "text/plain": [
       "80000000"
      ]
     },
     "execution_count": 8,
     "metadata": {},
     "output_type": "execute_result"
    }
   ],
   "source": [
    "s = np.random.random(n)\n",
    "s.nbytes"
   ]
  },
  {
   "cell_type": "markdown",
   "id": "1fbc2150",
   "metadata": {},
   "source": [
    "#### Numba\n",
    "Thirdly, we evaluate Numba. Numba is a package that allows the dynamic compiling of pure Python code. The combination of pure Python with Numba beats the NumPy version and preserves the memory efficiency of the original loop-based implementation."
   ]
  },
  {
   "cell_type": "code",
   "execution_count": 9,
   "id": "ce3b5ff0",
   "metadata": {},
   "outputs": [
    {
     "name": "stderr",
     "output_type": "stream",
     "text": [
      "C:\\Users\\Franc\\AppData\\Local\\Temp\\ipykernel_36672\\3021667931.py:5: NumbaDeprecationWarning:\n",
      "\n",
      "\u001b[1mThe 'nopython' keyword argument was not supplied to the 'numba.jit' decorator. The implicit default value for this argument is currently False, but it will be changed to True in Numba 0.59.0. See https://numba.readthedocs.io/en/stable/reference/deprecation.html#deprecation-of-object-mode-fall-back-behaviour-when-using-jit for details.\u001b[0m\n",
      "\n"
     ]
    },
    {
     "name": "stdout",
     "output_type": "stream",
     "text": [
      "CPU times: total: 234 ms\n",
      "Wall time: 751 ms\n"
     ]
    },
    {
     "data": {
      "text/plain": [
       "0.5002230444891389"
      ]
     },
     "execution_count": 9,
     "metadata": {},
     "output_type": "execute_result"
    }
   ],
   "source": [
    "# Importar Numba\n",
    "import numba\n",
    "\n",
    "# Time a numba version\n",
    "average_nb = numba.jit(average_py) # This creates the Numba function.\n",
    "%time average_nb(n)"
   ]
  },
  {
   "cell_type": "code",
   "execution_count": 10,
   "id": "1b8ec57c",
   "metadata": {},
   "outputs": [
    {
     "name": "stdout",
     "output_type": "stream",
     "text": [
      "CPU times: total: 62.5 ms\n",
      "Wall time: 85.5 ms\n"
     ]
    },
    {
     "data": {
      "text/plain": [
       "0.4998853995133602"
      ]
     },
     "execution_count": 10,
     "metadata": {},
     "output_type": "execute_result"
    }
   ],
   "source": [
    "%time average_nb(n) # From the second execution (with the same input data types), the execution is faster."
   ]
  },
  {
   "cell_type": "code",
   "execution_count": 11,
   "id": "d08987e3",
   "metadata": {},
   "outputs": [
    {
     "name": "stdout",
     "output_type": "stream",
     "text": [
      "71.4 ms ± 3.92 ms per loop (mean ± std. dev. of 7 runs, 10 loops each)\n"
     ]
    }
   ],
   "source": [
    "%timeit average_nb(n) "
   ]
  },
  {
   "cell_type": "markdown",
   "id": "2fe610d0",
   "metadata": {},
   "source": [
    "### Algorithms"
   ]
  },
  {
   "cell_type": "markdown",
   "id": "448c5a19",
   "metadata": {},
   "source": [
    "#### Python"
   ]
  },
  {
   "cell_type": "markdown",
   "id": "8e90638c",
   "metadata": {},
   "source": [
    "The code that follows presents a Python implementation that creates a recombining tree based on some fixed numerical parameters for the model."
   ]
  },
  {
   "cell_type": "code",
   "execution_count": 12,
   "id": "03c73634",
   "metadata": {},
   "outputs": [],
   "source": [
    "# Function to evaluate if a number is prime or not (it only evaluates the numbers below the square root of the number)\n",
    "def is_prime(I):\n",
    " if I % 2 == 0: return False\n",
    " for i in range(3, int(I ** 0.5) + 1, 2):\n",
    "        if I % i == 0: return False\n",
    " return True"
   ]
  },
  {
   "cell_type": "code",
   "execution_count": 13,
   "id": "57c99e8a",
   "metadata": {},
   "outputs": [
    {
     "data": {
      "text/plain": [
       "100000003"
      ]
     },
     "execution_count": 13,
     "metadata": {},
     "output_type": "execute_result"
    }
   ],
   "source": [
    "n = int(1e8 + 3)\n",
    "n"
   ]
  },
  {
   "cell_type": "code",
   "execution_count": 14,
   "id": "2640b286",
   "metadata": {},
   "outputs": [
    {
     "name": "stdout",
     "output_type": "stream",
     "text": [
      "CPU times: total: 0 ns\n",
      "Wall time: 0 ns\n"
     ]
    },
    {
     "data": {
      "text/plain": [
       "False"
      ]
     },
     "execution_count": 14,
     "metadata": {},
     "output_type": "execute_result"
    }
   ],
   "source": [
    "%time is_prime(n)"
   ]
  },
  {
   "cell_type": "code",
   "execution_count": 15,
   "id": "80a282b0",
   "metadata": {},
   "outputs": [
    {
     "data": {
      "text/plain": [
       "100000007"
      ]
     },
     "execution_count": 15,
     "metadata": {},
     "output_type": "execute_result"
    }
   ],
   "source": [
    "p1 = int(1e8 + 7)\n",
    "p1"
   ]
  },
  {
   "cell_type": "code",
   "execution_count": 16,
   "id": "7e2e3a22",
   "metadata": {},
   "outputs": [
    {
     "name": "stdout",
     "output_type": "stream",
     "text": [
      "CPU times: total: 0 ns\n",
      "Wall time: 0 ns\n"
     ]
    },
    {
     "data": {
      "text/plain": [
       "True"
      ]
     },
     "execution_count": 16,
     "metadata": {},
     "output_type": "execute_result"
    }
   ],
   "source": [
    "%time is_prime(p1)"
   ]
  },
  {
   "cell_type": "code",
   "execution_count": 17,
   "id": "35a0fcc6",
   "metadata": {},
   "outputs": [
    {
     "data": {
      "text/plain": [
       "57"
      ]
     },
     "execution_count": 17,
     "metadata": {},
     "output_type": "execute_result"
    }
   ],
   "source": [
    "p2 = 100109100129162907\n",
    "p2.bit_length()"
   ]
  },
  {
   "cell_type": "code",
   "execution_count": 18,
   "id": "d0eb3179",
   "metadata": {},
   "outputs": [
    {
     "name": "stdout",
     "output_type": "stream",
     "text": [
      "CPU times: total: 7.88 s\n",
      "Wall time: 10.1 s\n"
     ]
    },
    {
     "data": {
      "text/plain": [
       "True"
      ]
     },
     "execution_count": 18,
     "metadata": {},
     "output_type": "execute_result"
    }
   ],
   "source": [
    "%time is_prime(p2) # It takes nearly 9 seconds (a lot!)"
   ]
  },
  {
   "cell_type": "markdown",
   "id": "f337bc91",
   "metadata": {},
   "source": [
    "#### Numba"
   ]
  },
  {
   "cell_type": "code",
   "execution_count": 19,
   "id": "0c3e278c",
   "metadata": {},
   "outputs": [
    {
     "name": "stderr",
     "output_type": "stream",
     "text": [
      "C:\\Users\\Franc\\AppData\\Local\\Temp\\ipykernel_36672\\2261114259.py:1: NumbaDeprecationWarning:\n",
      "\n",
      "\u001b[1mThe 'nopython' keyword argument was not supplied to the 'numba.jit' decorator. The implicit default value for this argument is currently False, but it will be changed to True in Numba 0.59.0. See https://numba.readthedocs.io/en/stable/reference/deprecation.html#deprecation-of-object-mode-fall-back-behaviour-when-using-jit for details.\u001b[0m\n",
      "\n"
     ]
    }
   ],
   "source": [
    "is_prime_nb = numba.jit(is_prime)"
   ]
  },
  {
   "cell_type": "code",
   "execution_count": 20,
   "id": "e684844a",
   "metadata": {},
   "outputs": [
    {
     "name": "stdout",
     "output_type": "stream",
     "text": [
      "CPU times: total: 109 ms\n",
      "Wall time: 110 ms\n"
     ]
    },
    {
     "data": {
      "text/plain": [
       "False"
      ]
     },
     "execution_count": 20,
     "metadata": {},
     "output_type": "execute_result"
    }
   ],
   "source": [
    "%time is_prime_nb(n)"
   ]
  },
  {
   "cell_type": "code",
   "execution_count": 21,
   "id": "123f9682",
   "metadata": {},
   "outputs": [
    {
     "name": "stdout",
     "output_type": "stream",
     "text": [
      "CPU times: total: 0 ns\n",
      "Wall time: 0 ns\n"
     ]
    },
    {
     "data": {
      "text/plain": [
       "False"
      ]
     },
     "execution_count": 21,
     "metadata": {},
     "output_type": "execute_result"
    }
   ],
   "source": [
    "%time is_prime_nb(n)"
   ]
  },
  {
   "cell_type": "code",
   "execution_count": 22,
   "id": "3a62f69e",
   "metadata": {},
   "outputs": [
    {
     "name": "stdout",
     "output_type": "stream",
     "text": [
      "CPU times: total: 0 ns\n",
      "Wall time: 0 ns\n"
     ]
    },
    {
     "data": {
      "text/plain": [
       "True"
      ]
     },
     "execution_count": 22,
     "metadata": {},
     "output_type": "execute_result"
    }
   ],
   "source": [
    "%time is_prime_nb(p1)"
   ]
  },
  {
   "cell_type": "code",
   "execution_count": 23,
   "id": "fdb76cdc",
   "metadata": {},
   "outputs": [
    {
     "name": "stdout",
     "output_type": "stream",
     "text": [
      "CPU times: total: 406 ms\n",
      "Wall time: 543 ms\n"
     ]
    },
    {
     "data": {
      "text/plain": [
       "True"
      ]
     },
     "execution_count": 23,
     "metadata": {},
     "output_type": "execute_result"
    }
   ],
   "source": [
    "%time is_prime_nb(p2) # The speedup for the larger prime is about an order of magnitude."
   ]
  },
  {
   "cell_type": "markdown",
   "id": "aa5ae59c",
   "metadata": {},
   "source": [
    "#### Multiprocessing"
   ]
  },
  {
   "cell_type": "markdown",
   "id": "debfa5fe",
   "metadata": {},
   "source": [
    "So far, all the optimization efforts have focused on the sequential code execution. In particular with prime numbers, there might be a need to check multiple numbers at the same time. To this end, the multiprocessing module can help speed up the code\n",
    "execution further. It allows one to spawn multiple Python processes that run in parallel."
   ]
  },
  {
   "cell_type": "code",
   "execution_count": 24,
   "id": "fe63f028",
   "metadata": {},
   "outputs": [],
   "source": [
    "# Import multiprocessing library\n",
    "import multiprocessing as mp"
   ]
  },
  {
   "cell_type": "code",
   "execution_count": 25,
   "id": "a1f3a41f",
   "metadata": {},
   "outputs": [],
   "source": [
    "# The mp.Pool object is instantiated with multiple processes.\n",
    "pool = mp.Pool(processes=4)"
   ]
  },
  {
   "cell_type": "code",
   "execution_count": 26,
   "id": "0fa1d36f",
   "metadata": {},
   "outputs": [
    {
     "name": "stdout",
     "output_type": "stream",
     "text": [
      "CPU times: total: 0 ns\n",
      "Wall time: 2.74 s\n"
     ]
    },
    {
     "data": {
      "text/plain": [
       "[True, True, True, True, True, True, True, True, True, True]"
      ]
     },
     "execution_count": 26,
     "metadata": {},
     "output_type": "execute_result"
    }
   ],
   "source": [
    "# We time the numba version for a 10 item list\n",
    "%time pool.map(is_prime_nb, 10 * [p2])"
   ]
  },
  {
   "cell_type": "markdown",
   "id": "d9dc3851",
   "metadata": {},
   "source": [
    "The Numba version once again offers great speed posibilities"
   ]
  },
  {
   "cell_type": "markdown",
   "id": "f8414e11",
   "metadata": {},
   "source": [
    "### Binomial Trees"
   ]
  },
  {
   "cell_type": "markdown",
   "id": "d37314b5",
   "metadata": {},
   "source": [
    "The **binomial option pricing model** is a numerical method used to value options. Developed by Cox, Ross, and Rubinstein in 1979, this method represents the future evolution of an asset's price using a binomial tree. Here's a detailed explanation:\n",
    "\n",
    "#### Key Concepts:\n",
    "\n",
    "##### Tree Representation\n",
    "- The model uses a **binomial tree** to represent possible future movements of the asset price.\n",
    "- Each node in the tree represents a potential price at a specific point in time.\n",
    "\n",
    "##### Risky and Riskless Assets\n",
    "- **Risky Asset**: Typically a stock or index with uncertain price movements.\n",
    "- **Riskless Asset**: Usually a bond or other risk-free investment that grows at a constant rate $r$.\n",
    "\n",
    "##### Time Intervals\n",
    "- The time from the present until the option's maturity is divided into **equidistant subintervals** of length $\\Delta t$.\n",
    "\n",
    "##### Price Movements\n",
    "- At each time step, the price of the asset can either:\n",
    "  - **Increase**: The price at time $t$ is $S_{t} = S_{s} \\cdot u$.\n",
    "  - **Decrease**: The price at time $t$ is $S_{t} = S_{s} \\cdot d$.\n",
    "- Here, $S_{s}$ is the price at the current time $s$, and $S_{t}$ is the price at time $t$.\n",
    "\n",
    "##### Factors $u$ and $d$\n",
    "- **Up Factor $u$**: The factor by which the price increases, calculated as $u = e^{\\sigma \\sqrt{\\Delta t}}$, where $\\sigma$ is the volatility.\n",
    "- **Down Factor $d$**: The factor by which the price decreases, calculated as $d = \\frac{1}{u}$.\n",
    "- These factors ensure $0 < d < e^{r \\Delta t} < u$, where $e^{r \\Delta t}$ is the growth factor of the risk-free asset.\n",
    "- Additionally, $u = \\frac{1}{d}$ to ensure the tree is recombining.\n",
    "\n",
    "##### Risk-Free Rate\n",
    "- $r$ is the constant **risk-free short rate**, the rate of return on a risk-free asset.\n",
    "\n",
    "#### Example Calculation:\n",
    "\n",
    "Suppose:\n",
    "- Current stock price is $S_{s}$.\n",
    "- Up factor $u = e^{\\sigma \\sqrt{\\Delta t}}$.\n",
    "- Down factor $d = \\frac{1}{u}$.\n",
    "\n",
    "In one time step of length $\\Delta t$:\n",
    "- The stock price can increase to $S_{t} = S_{s} \\cdot u$.\n",
    "- The stock price can decrease to $S_{t} = S_{s} \\cdot d$.\n",
    "\n",
    "By constructing and analyzing the binomial tree, you can work backward from the option's expiry to today to determine its value.\n",
    "\n",
    "This model is valued for its simplicity and intuitive approach compared to more complex models like Black-Scholes."
   ]
  },
  {
   "cell_type": "markdown",
   "id": "3a477b53",
   "metadata": {},
   "source": [
    "#### Python"
   ]
  },
  {
   "cell_type": "code",
   "execution_count": 27,
   "id": "823a3d5b",
   "metadata": {},
   "outputs": [],
   "source": [
    "# Define parameters\n",
    "S0 = 36 # Initial value of the risky asset\n",
    "T = 1.0 # Time horizon for the binomial tree simulation\n",
    "r = 0.06 # Constant short rate\n",
    "sigma = 0.2 # Constant volatility factor"
   ]
  },
  {
   "cell_type": "code",
   "execution_count": 28,
   "id": "ca95af26",
   "metadata": {},
   "outputs": [],
   "source": [
    "def simulate_tree(M):\n",
    " dt = T / M # Length of time intervals\n",
    " u = math.exp(sigma * math.sqrt(dt)) # Factors for the upward movements\n",
    " d = 1 / u # Factors for the downward movements\n",
    " S = np.zeros((M + 1, M + 1))\n",
    " S[0, 0] = S0\n",
    " z = 1\n",
    " for t in range(1, M + 1):\n",
    "    for i in range(z):\n",
    "        S[i, t] = S[i, t-1] * u\n",
    "        S[i+1, t] = S[i, t-1] * d\n",
    "    z += 1\n",
    " return S"
   ]
  },
  {
   "cell_type": "code",
   "execution_count": 29,
   "id": "875e8934",
   "metadata": {},
   "outputs": [
    {
     "data": {
      "text/plain": [
       "array([[ 36.00,  39.79,  43.97,  48.59,  53.71],\n",
       "       [  0.00,  32.57,  36.00,  39.79,  43.97],\n",
       "       [  0.00,   0.00,  29.47,  32.57,  36.00],\n",
       "       [  0.00,   0.00,   0.00,  26.67,  29.47],\n",
       "       [  0.00,   0.00,   0.00,   0.00,  24.13]])"
      ]
     },
     "execution_count": 29,
     "metadata": {},
     "output_type": "execute_result"
    }
   ],
   "source": [
    "# Set 'print' options with two decimals\n",
    "np.set_printoptions(formatter={'float':\n",
    "                                 lambda x: '%6.2f' % x})\n",
    "\n",
    "# Tree with 4 time intervals\n",
    "simulate_tree(4)"
   ]
  },
  {
   "cell_type": "code",
   "execution_count": 30,
   "id": "0a6858ad",
   "metadata": {},
   "outputs": [
    {
     "name": "stdout",
     "output_type": "stream",
     "text": [
      "CPU times: total: 62.5 ms\n",
      "Wall time: 92.3 ms\n"
     ]
    },
    {
     "data": {
      "text/plain": [
       "array([[ 36.00,  36.32,  36.65, ..., 3095.69, 3123.50, 3151.57],\n",
       "       [  0.00,  35.68,  36.00, ..., 3040.81, 3068.13, 3095.69],\n",
       "       [  0.00,   0.00,  35.36, ..., 2986.89, 3013.73, 3040.81],\n",
       "       ...,\n",
       "       [  0.00,   0.00,   0.00, ...,   0.42,   0.42,   0.43],\n",
       "       [  0.00,   0.00,   0.00, ...,   0.00,   0.41,   0.42],\n",
       "       [  0.00,   0.00,   0.00, ...,   0.00,   0.00,   0.41]])"
      ]
     },
     "execution_count": 30,
     "metadata": {},
     "output_type": "execute_result"
    }
   ],
   "source": [
    "# Tree with 500 time intervals.\n",
    "%time simulate_tree(500)"
   ]
  },
  {
   "cell_type": "markdown",
   "id": "a944e9b3",
   "metadata": {},
   "source": [
    "#### Numba"
   ]
  },
  {
   "cell_type": "code",
   "execution_count": 31,
   "id": "a467f5c5",
   "metadata": {},
   "outputs": [
    {
     "name": "stderr",
     "output_type": "stream",
     "text": [
      "C:\\Users\\Franc\\AppData\\Local\\Temp\\ipykernel_36672\\2537181362.py:2: NumbaDeprecationWarning:\n",
      "\n",
      "\u001b[1mThe 'nopython' keyword argument was not supplied to the 'numba.jit' decorator. The implicit default value for this argument is currently False, but it will be changed to True in Numba 0.59.0. See https://numba.readthedocs.io/en/stable/reference/deprecation.html#deprecation-of-object-mode-fall-back-behaviour-when-using-jit for details.\u001b[0m\n",
      "\n"
     ]
    },
    {
     "data": {
      "text/plain": [
       "array([[ 36.00,  39.79,  43.97,  48.59,  53.71],\n",
       "       [  0.00,  32.57,  36.00,  39.79,  43.97],\n",
       "       [  0.00,   0.00,  29.47,  32.57,  36.00],\n",
       "       [  0.00,   0.00,   0.00,  26.67,  29.47],\n",
       "       [  0.00,   0.00,   0.00,   0.00,  24.13]])"
      ]
     },
     "execution_count": 31,
     "metadata": {},
     "output_type": "execute_result"
    }
   ],
   "source": [
    "# Numba function\n",
    "simulate_tree_nb = numba.jit(simulate_tree)\n",
    "\n",
    "# Simulation with 4 time intervals\n",
    "simulate_tree_nb(4)"
   ]
  },
  {
   "cell_type": "code",
   "execution_count": 32,
   "id": "bf5bd06c",
   "metadata": {},
   "outputs": [
    {
     "name": "stdout",
     "output_type": "stream",
     "text": [
      "CPU times: total: 0 ns\n",
      "Wall time: 1.01 ms\n"
     ]
    },
    {
     "data": {
      "text/plain": [
       "array([[ 36.00,  36.32,  36.65, ..., 3095.69, 3123.50, 3151.57],\n",
       "       [  0.00,  35.68,  36.00, ..., 3040.81, 3068.13, 3095.69],\n",
       "       [  0.00,   0.00,  35.36, ..., 2986.89, 3013.73, 3040.81],\n",
       "       ...,\n",
       "       [  0.00,   0.00,   0.00, ...,   0.42,   0.42,   0.43],\n",
       "       [  0.00,   0.00,   0.00, ...,   0.00,   0.41,   0.42],\n",
       "       [  0.00,   0.00,   0.00, ...,   0.00,   0.00,   0.41]])"
      ]
     },
     "execution_count": 32,
     "metadata": {},
     "output_type": "execute_result"
    }
   ],
   "source": [
    "# Time simulation with a 500 time intervals\n",
    "%time simulate_tree_nb(500)"
   ]
  },
  {
   "cell_type": "code",
   "execution_count": 33,
   "id": "de547f15",
   "metadata": {},
   "outputs": [
    {
     "name": "stdout",
     "output_type": "stream",
     "text": [
      "802 µs ± 94.1 µs per loop (mean ± std. dev. of 7 runs, 1,000 loops each)\n"
     ]
    }
   ],
   "source": [
    "%timeit simulate_tree_nb(500)"
   ]
  },
  {
   "cell_type": "markdown",
   "id": "cc20f03c",
   "metadata": {},
   "source": [
    "### Monte Carlo Simulation"
   ]
  },
  {
   "cell_type": "markdown",
   "id": "9119e423",
   "metadata": {},
   "source": [
    "This section analyzes the Monte Carlo simulation of the geometric Brownian motion, a simple yet still widely used stochastic process to model the evolution of stock prices or index levels. Among others, the Black-Scholes-Merton (1973) theory of option pricing draws on this process. In their setup, the underlying of the option to be valued follows the stochastic differential equation (SDE), as seen in Equation 10-1. $S_t$ is the value of the underlying at time $t$; $r$ is the constant, riskless short rate; $\\sigma$ is the constant instantaneous volatility; and $Z_t$ is a Brownian motion.\n",
    "\n",
    "#### Equation 10-1. Black-Scholes-Merton SDE (geometric Brownian motion)\n",
    "$$\n",
    "dS_t = r S_t dt + \\sigma S_t dZ_t\n",
    "$$\n",
    "\n",
    "##### Interpretation:\n",
    "\n",
    "- **Drift Term ($ \\mu S_t dt $)**: This term represents the deterministic part of the price change, contributing to the average growth rate of the asset over time.\n",
    "- **Volatility Term ($ \\sigma S_t dZ_t $)**: This term introduces randomness into the price change, capturing the unpredictable fluctuations due to market forces.\n",
    "\n",
    "#### Equation 10-2. Black-Scholes-Merton difference equation (Euler scheme)\n",
    "\n",
    "The previous SDE can be discretized over equidistant time intervals and simulated according to Equation 10-2, which represents an Euler scheme. In this case, $z$ is a standard normally distributed random number. For $M$ time intervals, the length of the time interval is given as $\\Delta t = \\frac{T}{M}$, where $T$ is the time horizon for the simulation (for example, the maturity date of an option to be valued).\n",
    "\n",
    "$$\n",
    "S_t = S_{t - \\Delta t} \\exp \\left( \\left( r - \\frac{\\sigma^2}{2} \\right) \\Delta t + \\sigma \\sqrt{\\Delta t} \\, z \\right)\n",
    "$$\n",
    "\n",
    "#### Key Concepts:\n",
    "\n",
    "##### Geometric Brownian Motion (GBM)\n",
    "- GBM is a stochastic process used to model stock prices.\n",
    "- The process assumes continuous compound growth with a drift term ($r$) and a volatility term ($\\sigma$).\n",
    "- **Drift**: This represents the average rate of return of the asset, often denoted by $ \\mu $ or $ r $. It accounts for the deterministic trend in the price movement.\n",
    "- **Volatility**: Represented by $ \\sigma $, this measures the degree of randomness or uncertainty in the price movement. Higher volatility indicates greater uncertainty and larger potential price swings.\n",
    "\n",
    "##### Monte Carlo Simulation\n",
    "- A method to simulate the potential future outcomes of a GBM by generating a large number of random paths.\n",
    "- Each path represents a possible evolution of the stock price over time.\n",
    "\n",
    "##### Stochastic Differential Equation (SDE)\n",
    "- The SDE for GBM is given by Equation 10-1.\n",
    "- This equation describes the continuous change in the stock price, incorporating both the deterministic trend and the stochastic volatility.\n",
    "\n",
    "##### Discretization and Euler Scheme\n",
    "- To simulate GBM, the continuous SDE is discretized using the Euler scheme.\n",
    "- The discretized equation (Equation 10-2) allows for the numerical simulation of stock prices over discrete time intervals.\n",
    "\n",
    "The Monte Carlo estimator for a European call option is a method used to estimate the option's price using simulated paths of the underlying asset's price. This approach relies on generating a large number of potential future price paths and then averaging the payoff of the option across these paths. The key formula for the Monte Carlo estimator is given by Equation 10-3.\n",
    "\n",
    "#### Equation 10-3. Monte Carlo Estimator for European Call Option\n",
    "\n",
    "$$\n",
    "C_0 = e^{-rT} \\frac{1}{I} \\sum_{i=1}^{I} \\max(S_T^{(i)} - K, 0)\n",
    "$$\n",
    "\n",
    "##### Explanation\n",
    "\n",
    "- **$C_0$**: The estimated price of the European call option at time 0.\n",
    "- **$e^{-rT}$**: The discount factor, which accounts for the time value of money. Here, $r$ is the risk-free rate, and $T$ is the time to maturity.\n",
    "- **$I$**: The total number of simulated paths.\n",
    "- **$S_T^{(i)}$**: The $i$-th simulated value of the underlying asset at maturity $T$.\n",
    "- **$K$**: The strike price of the option.\n",
    "- **$\\max(S_T^{(i)} - K, 0)$**: The payoff of the call option for the $i$-th simulated path. This represents the intrinsic value of the option, which is the positive difference between the asset price at maturity and the strike price, or zero if the difference is negative."
   ]
  },
  {
   "cell_type": "markdown",
   "id": "511661b0",
   "metadata": {},
   "source": [
    "#### Python"
   ]
  },
  {
   "cell_type": "code",
   "execution_count": 38,
   "id": "36261a28",
   "metadata": {},
   "outputs": [],
   "source": [
    "M = 100 # The number of time intervals for discretization.\n",
    "I = 50000 # The number of paths to be simulated.\n",
    "\n",
    "# Function for Monte Carlo simulation\n",
    "def mcs_simulation_py(p):\n",
    " M, I = p\n",
    " dt = T / M\n",
    " S = np.zeros((M + 1, I))\n",
    " S[0] = S0\n",
    " rn = np.random.standard_normal(S.shape)\n",
    " #The nested loop implementing the simulation based on the Euler scheme.\n",
    " for t in range(1, M + 1):\n",
    "     for i in range(I):\n",
    "         S[t, i] = S[t-1, i] * math.exp((r - sigma ** 2 / 2) * dt + sigma * math.sqrt(dt) * rn[t, i])\n",
    " return S"
   ]
  },
  {
   "cell_type": "code",
   "execution_count": 39,
   "id": "9089feea",
   "metadata": {},
   "outputs": [
    {
     "name": "stdout",
     "output_type": "stream",
     "text": [
      "5.19 s ± 145 ms per loop (mean ± std. dev. of 7 runs, 1 loop each)\n"
     ]
    }
   ],
   "source": [
    "%timeit S = mcs_simulation_py((M, I))"
   ]
  },
  {
   "cell_type": "code",
   "execution_count": 48,
   "id": "7b86c33e",
   "metadata": {},
   "outputs": [
    {
     "name": "stdout",
     "output_type": "stream",
     "text": [
      "CPU times: total: 4.7 s\n",
      "Wall time: 5.28 s\n"
     ]
    },
    {
     "data": {
      "text/plain": [
       "38.289741809280926"
      ]
     },
     "execution_count": 48,
     "metadata": {},
     "output_type": "execute_result"
    }
   ],
   "source": [
    "%time S = mcs_simulation_py((M, I))\n",
    "\n",
    "# The mean end-of-period value based on the simulation\n",
    "S[-1].mean()"
   ]
  },
  {
   "cell_type": "code",
   "execution_count": 42,
   "id": "824dd8bd",
   "metadata": {},
   "outputs": [
    {
     "data": {
      "text/plain": [
       "38.22611567563295"
      ]
     },
     "execution_count": 42,
     "metadata": {},
     "output_type": "execute_result"
    }
   ],
   "source": [
    "# The theoretically expected end-of-period value\n",
    "S0 * math.exp(r * T)"
   ]
  },
  {
   "cell_type": "code",
   "execution_count": 43,
   "id": "38c422f4",
   "metadata": {},
   "outputs": [
    {
     "data": {
      "text/plain": [
       "3.852025291365972"
      ]
     },
     "execution_count": 43,
     "metadata": {},
     "output_type": "execute_result"
    }
   ],
   "source": [
    "# The strike price of the European put option\n",
    "K = 40\n",
    "\n",
    "# The Monte Carlo estimator for the option\n",
    "C0 = math.exp(-r * T) * np.maximum(K - S[-1], 0).mean()\n",
    "C0"
   ]
  },
  {
   "cell_type": "markdown",
   "id": "b368fbf3",
   "metadata": {},
   "source": [
    "#### Numpy"
   ]
  },
  {
   "cell_type": "code",
   "execution_count": 44,
   "id": "93e6c006",
   "metadata": {},
   "outputs": [],
   "source": [
    "# Function for Monte Carlo simulation\n",
    "def mcs_simulation_np(p):\n",
    " M, I = p\n",
    " dt = T / M\n",
    " S = np.zeros((M + 1, I))\n",
    " S[0] = S0\n",
    " rn = np.random.standard_normal(S.shape)\n",
    " for t in range(1, M + 1):\n",
    "     S[t] = S[t-1] * np.exp((r - sigma ** 2 / 2) * dt + sigma * math.sqrt(dt) * rn[t])\n",
    " return S"
   ]
  },
  {
   "cell_type": "code",
   "execution_count": 45,
   "id": "ed8b660c",
   "metadata": {},
   "outputs": [
    {
     "name": "stdout",
     "output_type": "stream",
     "text": [
      "CPU times: total: 156 ms\n",
      "Wall time: 203 ms\n"
     ]
    }
   ],
   "source": [
    "# Time the simulation time\n",
    "%time S = mcs_simulation_np((M, I))"
   ]
  },
  {
   "cell_type": "code",
   "execution_count": 46,
   "id": "df3ae191",
   "metadata": {},
   "outputs": [
    {
     "data": {
      "text/plain": [
       "38.23808096960891"
      ]
     },
     "execution_count": 46,
     "metadata": {},
     "output_type": "execute_result"
    }
   ],
   "source": [
    "# The mean end-of-period value based on the simulation\n",
    "S[-1].mean()"
   ]
  },
  {
   "cell_type": "code",
   "execution_count": 47,
   "id": "af28e83d",
   "metadata": {},
   "outputs": [
    {
     "name": "stdout",
     "output_type": "stream",
     "text": [
      "180 ms ± 18.5 ms per loop (mean ± std. dev. of 7 runs, 1 loop each)\n"
     ]
    }
   ],
   "source": [
    "%timeit S = mcs_simulation_np((M, I)) # The numpy version is extremly faster than the Python version"
   ]
  },
  {
   "cell_type": "markdown",
   "id": "e6949895",
   "metadata": {},
   "source": [
    "#### Numba"
   ]
  },
  {
   "cell_type": "code",
   "execution_count": 49,
   "id": "ff0e375c",
   "metadata": {},
   "outputs": [
    {
     "name": "stderr",
     "output_type": "stream",
     "text": [
      "C:\\Users\\Franc\\AppData\\Local\\Temp\\ipykernel_36672\\2190167922.py:1: NumbaDeprecationWarning:\n",
      "\n",
      "\u001b[1mThe 'nopython' keyword argument was not supplied to the 'numba.jit' decorator. The implicit default value for this argument is currently False, but it will be changed to True in Numba 0.59.0. See https://numba.readthedocs.io/en/stable/reference/deprecation.html#deprecation-of-object-mode-fall-back-behaviour-when-using-jit for details.\u001b[0m\n",
      "\n"
     ]
    }
   ],
   "source": [
    "mcs_simulation_nb = numba.jit(mcs_simulation_py)"
   ]
  },
  {
   "cell_type": "code",
   "execution_count": 50,
   "id": "ed205f82",
   "metadata": {},
   "outputs": [
    {
     "name": "stdout",
     "output_type": "stream",
     "text": [
      "163 ms ± 13.9 ms per loop (mean ± std. dev. of 7 runs, 1 loop each)\n"
     ]
    }
   ],
   "source": [
    "%timeit S = mcs_simulation_nb((M, I))"
   ]
  },
  {
   "cell_type": "code",
   "execution_count": 51,
   "id": "607b9041",
   "metadata": {},
   "outputs": [
    {
     "data": {
      "text/plain": [
       "38.289741809280926"
      ]
     },
     "execution_count": 51,
     "metadata": {},
     "output_type": "execute_result"
    }
   ],
   "source": [
    "S[-1].mean()"
   ]
  },
  {
   "cell_type": "code",
   "execution_count": 52,
   "id": "60254e3e",
   "metadata": {},
   "outputs": [
    {
     "data": {
      "text/plain": [
       "3.815253236131366"
      ]
     },
     "execution_count": 52,
     "metadata": {},
     "output_type": "execute_result"
    }
   ],
   "source": [
    "C0 = math.exp(-r * T) * np.maximum(K - S[-1], 0).mean()\n",
    "C0"
   ]
  },
  {
   "cell_type": "markdown",
   "id": "a62ee4ef",
   "metadata": {},
   "source": [
    "#### Multiprocessing"
   ]
  },
  {
   "cell_type": "markdown",
   "id": "4c285fef",
   "metadata": {},
   "source": [
    "Monte Carlo simulation is a task that lends itself well to parallelization. One approach would be to parallelize the simulation of 100,000 paths, say, into 10 processes simulating 10,000 paths each. Another would be to parallelize the simulation of the 100,000 paths into multiple processes, each simulating a different financial instrument, for example."
   ]
  },
  {
   "cell_type": "code",
   "execution_count": 53,
   "id": "d0efae60",
   "metadata": {},
   "outputs": [],
   "source": [
    "# The Pool object for parallelization.\n",
    "pool = mp.Pool(processes=4)\n",
    "\n",
    "# The number of chunks into which the simulation is divided\n",
    "p = 20"
   ]
  },
  {
   "cell_type": "code",
   "execution_count": 54,
   "id": "303e514f",
   "metadata": {},
   "outputs": [
    {
     "name": "stdout",
     "output_type": "stream",
     "text": [
      "143 ms ± 19.2 ms per loop (mean ± std. dev. of 7 runs, 1 loop each)\n"
     ]
    }
   ],
   "source": [
    "# Multiprocessing the Numba version\n",
    "%timeit S = np.hstack(pool.map(mcs_simulation_nb, p * [(M, int(I / p))]))"
   ]
  },
  {
   "cell_type": "markdown",
   "id": "82216c14",
   "metadata": {},
   "source": [
    "### Recursive pandas Algorithm"
   ]
  },
  {
   "cell_type": "markdown",
   "id": "66f0e286",
   "metadata": {},
   "source": [
    "The examples that follow implement what is called the exponentially weighted moving average (EWMA) in a simple form.\n",
    "\n",
    "#### Exponentially Weighted Moving Average (EWMA)\n",
    "\n",
    "The Exponentially Weighted Moving Average (EWMA) is a statistical method used to smooth a time series by applying exponentially decreasing weights to past observations. This method is particularly useful in financial time series analysis to track trends and reduce noise.\n",
    "\n",
    "##### Equation 10-4. EWMA Calculation:\n",
    "\n",
    "The EWMA for a financial time series $ S_t $, $ t \\in \\{0, 1, \\ldots, T \\} $, is given by the following equations:\n",
    "\n",
    "1. **Initialization**:\n",
    "$$\n",
    "\\text{EWMA}_0 = S_0\n",
    "$$\n",
    "\n",
    "2. **Recursive Calculation**:\n",
    "$$\n",
    "\\text{EWMA}_t = \\alpha \\cdot S_t + (1 - \\alpha) \\cdot \\text{EWMA}_{t-1}, \\quad t \\in \\{1, 2, \\ldots, T \\}\n",
    "$$\n",
    "\n",
    "##### Explanation:\n",
    "\n",
    "- **$ S_t $**: The value of the time series at time $ t $.\n",
    "- **$ \\text{EWMA}_t $**: The EWMA value at time $ t $.\n",
    "- **$ \\alpha $**: The smoothing factor, $ 0 < \\alpha < 1 $. A higher $ \\alpha $ gives more weight to recent observations, making the EWMA more responsive to recent changes. A lower $ \\alpha $ gives more weight to older observations, making the EWMA smoother.\n",
    "- **$ \\text{EWMA}_0 $**: The initial EWMA value, set to the first observation of the time series, $ S_0 $."
   ]
  },
  {
   "cell_type": "markdown",
   "id": "63435f40",
   "metadata": {},
   "source": [
    "#### Python"
   ]
  },
  {
   "cell_type": "code",
   "execution_count": 57,
   "id": "3ac36722",
   "metadata": {},
   "outputs": [
    {
     "data": {
      "text/html": [
       "<div>\n",
       "<style scoped>\n",
       "    .dataframe tbody tr th:only-of-type {\n",
       "        vertical-align: middle;\n",
       "    }\n",
       "\n",
       "    .dataframe tbody tr th {\n",
       "        vertical-align: top;\n",
       "    }\n",
       "\n",
       "    .dataframe thead th {\n",
       "        text-align: right;\n",
       "    }\n",
       "</style>\n",
       "<table border=\"1\" class=\"dataframe\">\n",
       "  <thead>\n",
       "    <tr style=\"text-align: right;\">\n",
       "      <th></th>\n",
       "      <th>SPY</th>\n",
       "    </tr>\n",
       "    <tr>\n",
       "      <th>Date</th>\n",
       "      <th></th>\n",
       "    </tr>\n",
       "  </thead>\n",
       "  <tbody>\n",
       "    <tr>\n",
       "      <th>2010-01-04</th>\n",
       "      <td>113.33</td>\n",
       "    </tr>\n",
       "    <tr>\n",
       "      <th>2010-01-05</th>\n",
       "      <td>113.63</td>\n",
       "    </tr>\n",
       "    <tr>\n",
       "      <th>2010-01-06</th>\n",
       "      <td>113.71</td>\n",
       "    </tr>\n",
       "    <tr>\n",
       "      <th>2010-01-07</th>\n",
       "      <td>114.19</td>\n",
       "    </tr>\n",
       "    <tr>\n",
       "      <th>2010-01-08</th>\n",
       "      <td>114.57</td>\n",
       "    </tr>\n",
       "    <tr>\n",
       "      <th>...</th>\n",
       "      <td>...</td>\n",
       "    </tr>\n",
       "    <tr>\n",
       "      <th>2018-06-25</th>\n",
       "      <td>271.00</td>\n",
       "    </tr>\n",
       "    <tr>\n",
       "      <th>2018-06-26</th>\n",
       "      <td>271.60</td>\n",
       "    </tr>\n",
       "    <tr>\n",
       "      <th>2018-06-27</th>\n",
       "      <td>269.35</td>\n",
       "    </tr>\n",
       "    <tr>\n",
       "      <th>2018-06-28</th>\n",
       "      <td>270.89</td>\n",
       "    </tr>\n",
       "    <tr>\n",
       "      <th>2018-06-29</th>\n",
       "      <td>271.28</td>\n",
       "    </tr>\n",
       "  </tbody>\n",
       "</table>\n",
       "<p>2138 rows × 1 columns</p>\n",
       "</div>"
      ],
      "text/plain": [
       "               SPY\n",
       "Date              \n",
       "2010-01-04  113.33\n",
       "2010-01-05  113.63\n",
       "2010-01-06  113.71\n",
       "2010-01-07  114.19\n",
       "2010-01-08  114.57\n",
       "...            ...\n",
       "2018-06-25  271.00\n",
       "2018-06-26  271.60\n",
       "2018-06-27  269.35\n",
       "2018-06-28  270.89\n",
       "2018-06-29  271.28\n",
       "\n",
       "[2138 rows x 1 columns]"
      ]
     },
     "metadata": {},
     "output_type": "display_data"
    }
   ],
   "source": [
    "# Select the asset to simulate\n",
    "sym = 'SPY'\n",
    "\n",
    "# Load dataset\n",
    "data = pd.DataFrame(pd.read_csv('../source/tr_eikon_eod_data.csv',index_col=0, parse_dates=True)[sym]).dropna()\n",
    "display(data)"
   ]
  },
  {
   "cell_type": "code",
   "execution_count": 61,
   "id": "ecba4f47",
   "metadata": {},
   "outputs": [
    {
     "name": "stdout",
     "output_type": "stream",
     "text": [
      "CPU times: total: 0 ns\n",
      "Wall time: 0 ns\n"
     ]
    }
   ],
   "source": [
    "# Alpha value\n",
    "alpha = 0.25\n",
    "\n",
    "# Initialize the EWMA column\n",
    "data['EWMA'] = data[sym]\n",
    "\n",
    "# Implements the algorithm based on a Python loop\n",
    "%time\n",
    "for t in zip(data.index, data.index[1:]): \n",
    "    data.loc[t[1], 'EWMA'] = (alpha * data.loc[t[1], sym] + (1 - alpha) * data.loc[t[0], 'EWMA'])"
   ]
  },
  {
   "cell_type": "code",
   "execution_count": 62,
   "id": "674f8371",
   "metadata": {},
   "outputs": [
    {
     "data": {
      "text/html": [
       "<div>\n",
       "<style scoped>\n",
       "    .dataframe tbody tr th:only-of-type {\n",
       "        vertical-align: middle;\n",
       "    }\n",
       "\n",
       "    .dataframe tbody tr th {\n",
       "        vertical-align: top;\n",
       "    }\n",
       "\n",
       "    .dataframe thead th {\n",
       "        text-align: right;\n",
       "    }\n",
       "</style>\n",
       "<table border=\"1\" class=\"dataframe\">\n",
       "  <thead>\n",
       "    <tr style=\"text-align: right;\">\n",
       "      <th></th>\n",
       "      <th>SPY</th>\n",
       "      <th>EWMA</th>\n",
       "    </tr>\n",
       "    <tr>\n",
       "      <th>Date</th>\n",
       "      <th></th>\n",
       "      <th></th>\n",
       "    </tr>\n",
       "  </thead>\n",
       "  <tbody>\n",
       "    <tr>\n",
       "      <th>2010-01-04</th>\n",
       "      <td>113.33</td>\n",
       "      <td>113.330000</td>\n",
       "    </tr>\n",
       "    <tr>\n",
       "      <th>2010-01-05</th>\n",
       "      <td>113.63</td>\n",
       "      <td>113.405000</td>\n",
       "    </tr>\n",
       "    <tr>\n",
       "      <th>2010-01-06</th>\n",
       "      <td>113.71</td>\n",
       "      <td>113.481250</td>\n",
       "    </tr>\n",
       "    <tr>\n",
       "      <th>2010-01-07</th>\n",
       "      <td>114.19</td>\n",
       "      <td>113.658438</td>\n",
       "    </tr>\n",
       "    <tr>\n",
       "      <th>2010-01-08</th>\n",
       "      <td>114.57</td>\n",
       "      <td>113.886328</td>\n",
       "    </tr>\n",
       "  </tbody>\n",
       "</table>\n",
       "</div>"
      ],
      "text/plain": [
       "               SPY        EWMA\n",
       "Date                          \n",
       "2010-01-04  113.33  113.330000\n",
       "2010-01-05  113.63  113.405000\n",
       "2010-01-06  113.71  113.481250\n",
       "2010-01-07  114.19  113.658438\n",
       "2010-01-08  114.57  113.886328"
      ]
     },
     "execution_count": 62,
     "metadata": {},
     "output_type": "execute_result"
    }
   ],
   "source": [
    "# Display the first few rows\n",
    "data.head()"
   ]
  },
  {
   "cell_type": "code",
   "execution_count": 63,
   "id": "7d0d99c2",
   "metadata": {},
   "outputs": [
    {
     "data": {
      "text/plain": [
       "<Axes: xlabel='Date'>"
      ]
     },
     "execution_count": 63,
     "metadata": {},
     "output_type": "execute_result"
    },
    {
     "data": {
      "image/png": "[encoded data removed]",
      "text/plain": [
       "<Figure size 1000x600 with 1 Axes>"
      ]
     },
     "metadata": {},
     "output_type": "display_data"
    }
   ],
   "source": [
    "# Plot the results\n",
    "data[data.index > '2017-1-1'].plot(figsize=(10, 6))"
   ]
  },
  {
   "cell_type": "code",
   "execution_count": 65,
   "id": "f884a328",
   "metadata": {},
   "outputs": [
    {
     "name": "stdout",
     "output_type": "stream",
     "text": [
      "CPU times: total: 0 ns\n",
      "Wall time: 33.9 ms\n"
     ]
    }
   ],
   "source": [
    "def ewma_py(x, alpha):\n",
    " y = np.zeros_like(x)\n",
    " y[0] = x[0]\n",
    " for i in range(1, len(x)): \n",
    "    y[i] = alpha * x[i] + (1-alpha) * y[i-1]\n",
    " return y\n",
    "\n",
    "%time data['EWMA_PY'] = ewma_py(data[sym], alpha) # Applies the function to the Series object directly (i.e., the column)."
   ]
  },
  {
   "cell_type": "code",
   "execution_count": 66,
   "id": "d55c6755",
   "metadata": {},
   "outputs": [
    {
     "name": "stdout",
     "output_type": "stream",
     "text": [
      "CPU times: total: 0 ns\n",
      "Wall time: 4 ms\n"
     ]
    }
   ],
   "source": [
    "%time data['EWMA_PY'] = ewma_py(data[sym].values, alpha) # Applies the function to the ndarray object containing the raw data."
   ]
  },
  {
   "cell_type": "markdown",
   "id": "d709b918",
   "metadata": {},
   "source": [
    "#### Numba"
   ]
  },
  {
   "cell_type": "code",
   "execution_count": 67,
   "id": "17b48009",
   "metadata": {},
   "outputs": [
    {
     "name": "stderr",
     "output_type": "stream",
     "text": [
      "C:\\Users\\Franc\\AppData\\Local\\Temp\\ipykernel_36672\\2567006979.py:2: NumbaDeprecationWarning:\n",
      "\n",
      "\u001b[1mThe 'nopython' keyword argument was not supplied to the 'numba.jit' decorator. The implicit default value for this argument is currently False, but it will be changed to True in Numba 0.59.0. See https://numba.readthedocs.io/en/stable/reference/deprecation.html#deprecation-of-object-mode-fall-back-behaviour-when-using-jit for details.\u001b[0m\n",
      "\n"
     ]
    }
   ],
   "source": [
    "# Apply Numba function\n",
    "ewma_nb = numba.jit(ewma_py)"
   ]
  },
  {
   "cell_type": "code",
   "execution_count": 69,
   "id": "f99c3b2c",
   "metadata": {},
   "outputs": [
    {
     "name": "stdout",
     "output_type": "stream",
     "text": [
      "4.5 ms ± 439 µs per loop (mean ± std. dev. of 7 runs, 100 loops each)\n"
     ]
    }
   ],
   "source": [
    "%timeit data['EWMA_NB'] = ewma_nb(data[sym], alpha)"
   ]
  }
 ],
 "metadata": {
  "kernelspec": {
   "display_name": "Python 3 (ipykernel)",
   "language": "python",
   "name": "python3"
  },
  "language_info": {
   "codemirror_mode": {
    "name": "ipython",
    "version": 3
   },
   "file_extension": ".py",
   "mimetype": "text/x-python",
   "name": "python",
   "nbconvert_exporter": "python",
   "pygments_lexer": "ipython3",
   "version": "3.11.5"
  }
 },
 "nbformat": 4,
 "nbformat_minor": 5
}
